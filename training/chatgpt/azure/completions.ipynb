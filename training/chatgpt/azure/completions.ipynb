{
  "cells": [
    {
      "cell_type": "markdown",
      "metadata": {
        "id": "view-in-github",
        "colab_type": "text"
      },
      "source": [
        "<a href=\"https://colab.research.google.com/github/tella26/ChatGPT-Training/blob/main/training/chatgpt/azure/completions.ipynb\" target=\"_parent\"><img src=\"https://colab.research.google.com/assets/colab-badge.svg\" alt=\"Open In Colab\"/></a>"
      ]
    },
    {
      "cell_type": "markdown",
      "metadata": {
        "id": "IidCicVdWacy"
      },
      "source": [
        "# Azure completions example\n",
        "In this example we'll try to go over all operations needed to get completions working using the Azure endpoints. \\\n",
        "This example focuses on completions but also touches on some other operations that are also available using the API. This example is meant to be a quick way of showing simple operations and is not meant as a tutorial."
      ]
    },
    {
      "cell_type": "code",
      "execution_count": null,
      "metadata": {
        "id": "cX_JFPO-Wac3"
      },
      "outputs": [],
      "source": [
        "import openai"
      ]
    },
    {
      "cell_type": "markdown",
      "metadata": {
        "id": "zxU38-AuWac5"
      },
      "source": [
        "## Setup\n",
        "For the following sections to work properly we first have to setup some things. Let's start with the `api_base` and `api_version`. To find your `api_base` go to https://portal.azure.com, find your resource and then under \"Resource Management\" -> \"Keys and Endpoints\" look for the \"Endpoint\" value."
      ]
    },
    {
      "cell_type": "code",
      "execution_count": null,
      "metadata": {
        "id": "atRxR9_uWac7"
      },
      "outputs": [],
      "source": [
        "openai.api_version = '2022-12-01'\n",
        "openai.api_base = '' # Please add your endpoint here"
      ]
    },
    {
      "cell_type": "markdown",
      "metadata": {
        "id": "6LGbMvGUWac8"
      },
      "source": [
        "We next have to setup the `api_type` and `api_key`. We can either get the key from the portal or we can get it through Microsoft Active Directory Authentication. Depending on this the `api_type` is either `azure` or `azure_ad`."
      ]
    },
    {
      "cell_type": "markdown",
      "metadata": {
        "id": "ahhzXE6OWac9"
      },
      "source": [
        "### Setup: Portal\n",
        "Let's first look at getting the key from the portal. Go to https://portal.azure.com, find your resource and then under \"Resource Management\" -> \"Keys and Endpoints\" look for one of the \"Keys\" values."
      ]
    },
    {
      "cell_type": "code",
      "execution_count": null,
      "metadata": {
        "id": "z4_9Enm4Wac9"
      },
      "outputs": [],
      "source": [
        "openai.api_type = 'azure'\n",
        "openai.api_key = ''  # Please add your api key here"
      ]
    },
    {
      "cell_type": "markdown",
      "metadata": {
        "id": "k6LyhYTNWac-"
      },
      "source": [
        "### (Optional) Setup: Microsoft Active Directory Authentication\n",
        "Let's now see how we can get a key via Microsoft Active Directory Authentication. Uncomment the following code if you want to use Active Directory Authentication instead of keys from the portal."
      ]
    },
    {
      "cell_type": "code",
      "execution_count": null,
      "metadata": {
        "id": "wSSi4UNvWac-"
      },
      "outputs": [],
      "source": [
        "# from azure.identity import DefaultAzureCredential\n",
        "\n",
        "# default_credential = DefaultAzureCredential()\n",
        "# token = default_credential.get_token(\"https://cognitiveservices.azure.com/.default\")\n",
        "\n",
        "# openai.api_type = 'azure_ad'\n",
        "# openai.api_key = token.token"
      ]
    },
    {
      "cell_type": "markdown",
      "metadata": {
        "id": "4r5W2tvUWac_"
      },
      "source": [
        "## Deployments\n",
        "In this section we are going to create a deployment using the `text-davinci-002` model that we can then use to create completions."
      ]
    },
    {
      "cell_type": "markdown",
      "metadata": {
        "id": "GqezjBQoWac_"
      },
      "source": [
        "### Deployments: Create manually\n",
        "Create a new deployment by going to your Resource in your portal under \"Resource Management\" -> \"Model deployments\". Select `text-davinci-002` as the model."
      ]
    },
    {
      "cell_type": "markdown",
      "metadata": {
        "id": "LzKgEkopWadA"
      },
      "source": [
        "### (Optional) Deployments: Create programatically\n",
        "We can also create a deployment using code:"
      ]
    },
    {
      "cell_type": "code",
      "execution_count": null,
      "metadata": {
        "id": "XaTaXYUzWadA"
      },
      "outputs": [],
      "source": [
        "model = \"text-davinci-002\"\n",
        "\n",
        "# Now let's create the deployment\n",
        "print(f'Creating a new deployment with model: {model}')\n",
        "result = openai.Deployment.create(model=model, scale_settings={\"scale_type\":\"standard\"})\n",
        "deployment_id = result[\"id\"]\n",
        "print(f'Successfully created deployment with id: {deployment_id}')"
      ]
    },
    {
      "cell_type": "markdown",
      "metadata": {
        "id": "hpDM1CHvWadB"
      },
      "source": [
        "### (Optional) Deployments: Wait for deployment to succeed\n",
        "Now let's check the status of the newly created deployment and wait till it is succeeded."
      ]
    },
    {
      "cell_type": "code",
      "execution_count": null,
      "metadata": {
        "id": "ZVrrLJUzWadB"
      },
      "outputs": [],
      "source": [
        "print(f'Checking for deployment status.')\n",
        "resp = openai.Deployment.retrieve(id=deployment_id)\n",
        "status = resp[\"status\"]\n",
        "print(f'Deployment {deployment_id} has status: {status}')\n",
        "while status not in [\"succeeded\", \"failed\"]:\n",
        "    resp = openai.Deployment.retrieve(id=deployment_id)\n",
        "    status = resp[\"status\"]\n",
        "    print(f'Deployment {deployment_id} has status: {status}')"
      ]
    },
    {
      "cell_type": "markdown",
      "metadata": {
        "id": "CKWsdQDRWadB"
      },
      "source": [
        "### Completions\n",
        "Now let's send a sample completion to the deployment."
      ]
    },
    {
      "cell_type": "code",
      "execution_count": null,
      "metadata": {
        "id": "s0L0xd7QWadC"
      },
      "outputs": [],
      "source": [
        "prompt = \"The food was delicious and the waiter\"\n",
        "completion = openai.Completion.create(deployment_id=deployment_id,\n",
        "                                     prompt=prompt, stop=\".\", temperature=0)\n",
        "                                \n",
        "print(f\"{prompt}{completion['choices'][0]['text']}.\")"
      ]
    },
    {
      "cell_type": "markdown",
      "metadata": {
        "id": "3YuIIra1WadC"
      },
      "source": [
        "### (Optional) Deployments: Delete\n",
        "Finally let's delete the deployment"
      ]
    },
    {
      "cell_type": "code",
      "execution_count": null,
      "metadata": {
        "id": "xO_eFZxwWadC"
      },
      "outputs": [],
      "source": [
        "print(f'Deleting deployment: {deployment_id}')\n",
        "openai.Deployment.delete(sid=deployment_id)"
      ]
    }
  ],
  "metadata": {
    "kernelspec": {
      "display_name": "Python 3 (ipykernel)",
      "language": "python",
      "name": "python3"
    },
    "language_info": {
      "codemirror_mode": {
        "name": "ipython",
        "version": 3
      },
      "file_extension": ".py",
      "mimetype": "text/x-python",
      "name": "python",
      "nbconvert_exporter": "python",
      "pygments_lexer": "ipython3",
      "version": "3.8.10"
    },
    "vscode": {
      "interpreter": {
        "hash": "3a5103089ab7e7c666b279eeded403fcec76de49a40685dbdfe9f9c78ad97c17"
      }
    },
    "colab": {
      "provenance": [],
      "include_colab_link": true
    }
  },
  "nbformat": 4,
  "nbformat_minor": 0
}