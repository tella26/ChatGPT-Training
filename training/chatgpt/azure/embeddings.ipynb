{
  "cells": [
    {
      "cell_type": "markdown",
      "metadata": {
        "id": "view-in-github",
        "colab_type": "text"
      },
      "source": [
        "<a href=\"https://colab.research.google.com/github/tella26/ChatGPT-Training/blob/main/training/chatgpt/azure/embeddings.ipynb\" target=\"_parent\"><img src=\"https://colab.research.google.com/assets/colab-badge.svg\" alt=\"Open In Colab\"/></a>"
      ]
    },
    {
      "cell_type": "markdown",
      "metadata": {
        "id": "4f9rzqqtWsIC"
      },
      "source": [
        "# Azure embeddings example\n",
        "In this example we'll try to go over all operations for embeddings that can be done using the Azure endpoints. \\\n",
        "This example focuses on embeddings but also touches some other operations that are also available using the API. This example is meant to be a quick way of showing simple operations and is not meant as a tutorial."
      ]
    },
    {
      "cell_type": "code",
      "execution_count": null,
      "metadata": {
        "id": "kUWwJu4PWsIH"
      },
      "outputs": [],
      "source": [
        "import openai\n",
        "from openai import cli"
      ]
    },
    {
      "cell_type": "markdown",
      "metadata": {
        "id": "BLVtTyeKWsIK"
      },
      "source": [
        "## Setup\n",
        "For the following sections to work properly we first have to setup some things. Let's start with the `api_base` and `api_version`. To find your `api_base` go to https://portal.azure.com, find your resource and then under \"Resource Management\" -> \"Keys and Endpoints\" look for the \"Endpoint\" value."
      ]
    },
    {
      "cell_type": "code",
      "execution_count": null,
      "metadata": {
        "id": "wCy4NYujWsIL"
      },
      "outputs": [],
      "source": [
        "openai.api_version = '2022-12-01'\n",
        "openai.api_base = '' # Please add your endpoint here"
      ]
    },
    {
      "cell_type": "markdown",
      "metadata": {
        "id": "arbe-8poWsIL"
      },
      "source": [
        "We next have to setup the `api_type` and `api_key`. We can either get the key from the portal or we can get it through Microsoft Active Directory Authentication. Depending on this the `api_type` is either `azure` or `azure_ad`."
      ]
    },
    {
      "cell_type": "markdown",
      "metadata": {
        "id": "8xgiEaIiWsIM"
      },
      "source": [
        "### Setup: Portal\n",
        "Let's first look at getting the key from the portal. Go to https://portal.azure.com, find your resource and then under \"Resource Management\" -> \"Keys and Endpoints\" look for one of the \"Keys\" values."
      ]
    },
    {
      "cell_type": "code",
      "execution_count": null,
      "metadata": {
        "id": "9prmFhnvWsIM"
      },
      "outputs": [],
      "source": [
        "openai.api_type = 'azure'\n",
        "openai.api_key = ''  # Please add your api key here"
      ]
    },
    {
      "cell_type": "markdown",
      "metadata": {
        "id": "J82dHEVhWsIN"
      },
      "source": [
        "### (Optional) Setup: Microsoft Active Directory Authentication\n",
        "Let's now see how we can get a key via Microsoft Active Directory Authentication. Uncomment the following code if you want to use Active Directory Authentication instead of keys from the portal."
      ]
    },
    {
      "cell_type": "code",
      "execution_count": null,
      "metadata": {
        "id": "ksRo4j5jWsIN"
      },
      "outputs": [],
      "source": [
        "# from azure.identity import DefaultAzureCredential\n",
        "\n",
        "# default_credential = DefaultAzureCredential()\n",
        "# token = default_credential.get_token(\"https://cognitiveservices.azure.com/.default\")\n",
        "\n",
        "# openai.api_type = 'azure_ad'\n",
        "# openai.api_key = token.token"
      ]
    },
    {
      "cell_type": "markdown",
      "metadata": {
        "id": "7GRE4Cy_WsIO"
      },
      "source": [
        "## Deployments\n",
        "In this section we are going to create a deployment that we can use to create embeddings."
      ]
    },
    {
      "cell_type": "markdown",
      "metadata": {
        "id": "8EPDr59XWsIO"
      },
      "source": [
        "### Deployments: Create manually\n",
        "Let's create a deployment using the `text-similarity-curie-001` model. Create a new deployment by going to your Resource in your portal under \"Resource Management\" -> \"Model deployments\"."
      ]
    },
    {
      "cell_type": "markdown",
      "metadata": {
        "id": "dTaTX0MEWsIP"
      },
      "source": [
        "### (Optional) Deployments: Create programatically\n",
        "We can also create a deployment using code:"
      ]
    },
    {
      "cell_type": "code",
      "execution_count": null,
      "metadata": {
        "id": "v6HvcvEAWsIP"
      },
      "outputs": [],
      "source": [
        "model = \"text-similarity-curie-001\"\n",
        "\n",
        "# Now let's create the deployment\n",
        "print(f'Creating a new deployment with model: {model}')\n",
        "result = openai.Deployment.create(model=model, scale_settings={\"scale_type\":\"standard\"})\n",
        "deployment_id = result[\"id\"]"
      ]
    },
    {
      "cell_type": "markdown",
      "metadata": {
        "id": "Oq_KFO7-WsIP"
      },
      "source": [
        "### (Optional) Deployments: Retrieving\n",
        "Now let's check the status of the newly created deployment"
      ]
    },
    {
      "cell_type": "code",
      "execution_count": null,
      "metadata": {
        "id": "391EeMfqWsIQ"
      },
      "outputs": [],
      "source": [
        "print(f'Checking for deployment status.')\n",
        "resp = openai.Deployment.retrieve(id=deployment_id)\n",
        "status = resp[\"status\"]\n",
        "print(f'Deployment {deployment_id} is with status: {status}')"
      ]
    },
    {
      "cell_type": "markdown",
      "metadata": {
        "id": "GPnZavLwWsIQ"
      },
      "source": [
        "### Deployments: Listing\n",
        "Now because creating a new deployment takes a long time, let's look in the subscription for an already finished deployment that succeeded."
      ]
    },
    {
      "cell_type": "code",
      "execution_count": null,
      "metadata": {
        "id": "KXpYxgVPWsIQ"
      },
      "outputs": [],
      "source": [
        "print('While deployment running, selecting a completed one that supports embeddings.')\n",
        "deployment_id = None\n",
        "result = openai.Deployment.list()\n",
        "for deployment in result.data:\n",
        "    if deployment[\"status\"] != \"succeeded\":\n",
        "        continue\n",
        "    \n",
        "    model = openai.Model.retrieve(deployment[\"model\"])\n",
        "    if model[\"capabilities\"][\"embeddings\"] != True:\n",
        "        continue\n",
        "    \n",
        "    deployment_id = deployment[\"id\"]\n",
        "    break\n",
        "\n",
        "if not deployment_id:\n",
        "    print('No deployment with status: succeeded found.')\n",
        "else:\n",
        "    print(f'Found a succeeded deployment that supports embeddings with id: {deployment_id}.')"
      ]
    },
    {
      "cell_type": "markdown",
      "metadata": {
        "id": "prRvBXmdWsIR"
      },
      "source": [
        "### Embeddings\n",
        "Now let's send a sample embedding to the deployment."
      ]
    },
    {
      "cell_type": "code",
      "execution_count": null,
      "metadata": {
        "id": "iRAU58EGWsIR"
      },
      "outputs": [],
      "source": [
        "embeddings = openai.Embedding.create(deployment_id=deployment_id,\n",
        "                                     input=\"The food was delicious and the waiter...\")\n",
        "                                \n",
        "print(embeddings)"
      ]
    },
    {
      "cell_type": "markdown",
      "metadata": {
        "id": "dwsqZyQeWsIS"
      },
      "source": [
        "### (Optional) Deployments: Delete\n",
        "Finally let's delete the deployment"
      ]
    },
    {
      "cell_type": "code",
      "execution_count": null,
      "metadata": {
        "id": "oumFrLldWsIS"
      },
      "outputs": [],
      "source": [
        "print(f'Deleting deployment: {deployment_id}')\n",
        "openai.Deployment.delete(sid=deployment_id)"
      ]
    }
  ],
  "metadata": {
    "kernelspec": {
      "display_name": "Python 3",
      "language": "python",
      "name": "python3"
    },
    "language_info": {
      "codemirror_mode": {
        "name": "ipython",
        "version": 3
      },
      "file_extension": ".py",
      "mimetype": "text/x-python",
      "name": "python",
      "nbconvert_exporter": "python",
      "pygments_lexer": "ipython3",
      "version": "3.10.8"
    },
    "vscode": {
      "interpreter": {
        "hash": "3a5103089ab7e7c666b279eeded403fcec76de49a40685dbdfe9f9c78ad97c17"
      }
    },
    "colab": {
      "provenance": [],
      "include_colab_link": true
    }
  },
  "nbformat": 4,
  "nbformat_minor": 0
}